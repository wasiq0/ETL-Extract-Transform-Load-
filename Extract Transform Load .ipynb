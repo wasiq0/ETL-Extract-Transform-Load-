{
 "cells": [
  {
   "cell_type": "code",
   "execution_count": 72,
   "id": "336b0b68",
   "metadata": {},
   "outputs": [],
   "source": [
    "from bs4 import BeautifulSoup\n",
    "import requests\n",
    "import pandas as pd\n",
    "import numpy as np\n",
    "import sqlite3\n",
    "from datetime import datetime    "
   ]
  },
  {
   "cell_type": "code",
   "execution_count": 73,
   "id": "9a1513c0",
   "metadata": {},
   "outputs": [],
   "source": [
    "url = 'https://web.archive.org/web/20230902185326/https://en.wikipedia.org/wiki/List_of_countries_by_GDP_%28nominal%29'\n",
    "table_attribs = [\"Country\", \"GDP_USD_millions\"]\n",
    "db_name = 'World_Economies.db'  \n",
    "table_name = 'Countries_by_GDP'\n",
    "csv_path = './Countries_by_GDP.csv'"
   ]
  },
  {
   "cell_type": "code",
   "execution_count": 74,
   "id": "a1a4b728",
   "metadata": {},
   "outputs": [],
   "source": [
    "def extract(url, table_attribs):\n",
    "    ''' The purpose of this function is to extract the required\n",
    "    information from the website and save it to a dataframe. The\n",
    "    function returns the dataframe for further processing. '''\n",
    "    page = requests.get(url).text\n",
    "    data = BeautifulSoup(page,'html.parser')\n",
    "    df = pd.DataFrame(columns=table_attribs)\n",
    "    tables = data.find_all('tbody')\n",
    "    rows = tables[2].find_all('tr')\n",
    "    for row in rows:\n",
    "        col = row.find_all('td')\n",
    "        if len(col)!=0:\n",
    "            if col[0].find('a') is not None and '—' not in col[2]:\n",
    "                data_dict = {\"Country\": col[0].a.contents[0],\n",
    "                             \"GDP_USD_millions\": col[2].contents[0]}\n",
    "                df1 = pd.DataFrame(data_dict, index=[0])\n",
    "                df = pd.concat([df,df1], ignore_index=True)\n",
    "    return df"
   ]
  },
  {
   "cell_type": "code",
   "execution_count": 77,
   "id": "1fb55737",
   "metadata": {},
   "outputs": [
    {
     "data": {
      "text/html": [
       "<div>\n",
       "<style scoped>\n",
       "    .dataframe tbody tr th:only-of-type {\n",
       "        vertical-align: middle;\n",
       "    }\n",
       "\n",
       "    .dataframe tbody tr th {\n",
       "        vertical-align: top;\n",
       "    }\n",
       "\n",
       "    .dataframe thead th {\n",
       "        text-align: right;\n",
       "    }\n",
       "</style>\n",
       "<table border=\"1\" class=\"dataframe\">\n",
       "  <thead>\n",
       "    <tr style=\"text-align: right;\">\n",
       "      <th></th>\n",
       "      <th>Country</th>\n",
       "      <th>GDP_USD_millions</th>\n",
       "    </tr>\n",
       "  </thead>\n",
       "  <tbody>\n",
       "    <tr>\n",
       "      <th>0</th>\n",
       "      <td>United States</td>\n",
       "      <td>26,854,599</td>\n",
       "    </tr>\n",
       "    <tr>\n",
       "      <th>1</th>\n",
       "      <td>China</td>\n",
       "      <td>19,373,586</td>\n",
       "    </tr>\n",
       "    <tr>\n",
       "      <th>2</th>\n",
       "      <td>Japan</td>\n",
       "      <td>4,409,738</td>\n",
       "    </tr>\n",
       "    <tr>\n",
       "      <th>3</th>\n",
       "      <td>Germany</td>\n",
       "      <td>4,308,854</td>\n",
       "    </tr>\n",
       "    <tr>\n",
       "      <th>4</th>\n",
       "      <td>India</td>\n",
       "      <td>3,736,882</td>\n",
       "    </tr>\n",
       "    <tr>\n",
       "      <th>...</th>\n",
       "      <td>...</td>\n",
       "      <td>...</td>\n",
       "    </tr>\n",
       "    <tr>\n",
       "      <th>186</th>\n",
       "      <td>Marshall Islands</td>\n",
       "      <td>291</td>\n",
       "    </tr>\n",
       "    <tr>\n",
       "      <th>187</th>\n",
       "      <td>Palau</td>\n",
       "      <td>262</td>\n",
       "    </tr>\n",
       "    <tr>\n",
       "      <th>188</th>\n",
       "      <td>Kiribati</td>\n",
       "      <td>248</td>\n",
       "    </tr>\n",
       "    <tr>\n",
       "      <th>189</th>\n",
       "      <td>Nauru</td>\n",
       "      <td>151</td>\n",
       "    </tr>\n",
       "    <tr>\n",
       "      <th>190</th>\n",
       "      <td>Tuvalu</td>\n",
       "      <td>65</td>\n",
       "    </tr>\n",
       "  </tbody>\n",
       "</table>\n",
       "<p>191 rows × 2 columns</p>\n",
       "</div>"
      ],
      "text/plain": [
       "              Country GDP_USD_millions\n",
       "0       United States       26,854,599\n",
       "1               China       19,373,586\n",
       "2               Japan        4,409,738\n",
       "3             Germany        4,308,854\n",
       "4               India        3,736,882\n",
       "..                ...              ...\n",
       "186  Marshall Islands              291\n",
       "187             Palau              262\n",
       "188          Kiribati              248\n",
       "189             Nauru              151\n",
       "190            Tuvalu               65\n",
       "\n",
       "[191 rows x 2 columns]"
      ]
     },
     "execution_count": 77,
     "metadata": {},
     "output_type": "execute_result"
    }
   ],
   "source": [
    "extract(url, table_attribs)."
   ]
  },
  {
   "cell_type": "code",
   "execution_count": null,
   "id": "f5faac46",
   "metadata": {},
   "outputs": [],
   "source": []
  },
  {
   "cell_type": "code",
   "execution_count": 78,
   "id": "2d847adb",
   "metadata": {},
   "outputs": [],
   "source": [
    "def transform(df):\n",
    "    ''' This function converts the GDP information from Currency\n",
    "    format to float value, transforms the information of GDP from\n",
    "    USD (Millions) to USD (Billions) rounding to 2 decimal places.\n",
    "    The function returns the transformed dataframe.'''\n",
    "    GDP_list = df[\"GDP_USD_millions\"].tolist()\n",
    "    GDP_list = [float(\"\".join(x.split(','))) for x in GDP_list]\n",
    "    GDP_list = [np.round(x/1000,2) for x in GDP_list]\n",
    "    df[\"GDP_USD_millions\"] = GDP_list\n",
    "    df=df.rename(columns = {\"GDP_USD_millions\":\"GDP_USD_billions\"})\n",
    "    return df"
   ]
  },
  {
   "cell_type": "code",
   "execution_count": null,
   "id": "14b55f13",
   "metadata": {},
   "outputs": [],
   "source": []
  },
  {
   "cell_type": "code",
   "execution_count": 79,
   "id": "c0e15f47",
   "metadata": {},
   "outputs": [
    {
     "data": {
      "text/html": [
       "<div>\n",
       "<style scoped>\n",
       "    .dataframe tbody tr th:only-of-type {\n",
       "        vertical-align: middle;\n",
       "    }\n",
       "\n",
       "    .dataframe tbody tr th {\n",
       "        vertical-align: top;\n",
       "    }\n",
       "\n",
       "    .dataframe thead th {\n",
       "        text-align: right;\n",
       "    }\n",
       "</style>\n",
       "<table border=\"1\" class=\"dataframe\">\n",
       "  <thead>\n",
       "    <tr style=\"text-align: right;\">\n",
       "      <th></th>\n",
       "      <th>Country</th>\n",
       "      <th>GDP_USD_billions</th>\n",
       "    </tr>\n",
       "  </thead>\n",
       "  <tbody>\n",
       "    <tr>\n",
       "      <th>0</th>\n",
       "      <td>United States</td>\n",
       "      <td>26854.60</td>\n",
       "    </tr>\n",
       "    <tr>\n",
       "      <th>1</th>\n",
       "      <td>China</td>\n",
       "      <td>19373.59</td>\n",
       "    </tr>\n",
       "    <tr>\n",
       "      <th>2</th>\n",
       "      <td>Japan</td>\n",
       "      <td>4409.74</td>\n",
       "    </tr>\n",
       "    <tr>\n",
       "      <th>3</th>\n",
       "      <td>Germany</td>\n",
       "      <td>4308.85</td>\n",
       "    </tr>\n",
       "    <tr>\n",
       "      <th>4</th>\n",
       "      <td>India</td>\n",
       "      <td>3736.88</td>\n",
       "    </tr>\n",
       "    <tr>\n",
       "      <th>...</th>\n",
       "      <td>...</td>\n",
       "      <td>...</td>\n",
       "    </tr>\n",
       "    <tr>\n",
       "      <th>186</th>\n",
       "      <td>Marshall Islands</td>\n",
       "      <td>0.29</td>\n",
       "    </tr>\n",
       "    <tr>\n",
       "      <th>187</th>\n",
       "      <td>Palau</td>\n",
       "      <td>0.26</td>\n",
       "    </tr>\n",
       "    <tr>\n",
       "      <th>188</th>\n",
       "      <td>Kiribati</td>\n",
       "      <td>0.25</td>\n",
       "    </tr>\n",
       "    <tr>\n",
       "      <th>189</th>\n",
       "      <td>Nauru</td>\n",
       "      <td>0.15</td>\n",
       "    </tr>\n",
       "    <tr>\n",
       "      <th>190</th>\n",
       "      <td>Tuvalu</td>\n",
       "      <td>0.06</td>\n",
       "    </tr>\n",
       "  </tbody>\n",
       "</table>\n",
       "<p>191 rows × 2 columns</p>\n",
       "</div>"
      ],
      "text/plain": [
       "              Country  GDP_USD_billions\n",
       "0       United States          26854.60\n",
       "1               China          19373.59\n",
       "2               Japan           4409.74\n",
       "3             Germany           4308.85\n",
       "4               India           3736.88\n",
       "..                ...               ...\n",
       "186  Marshall Islands              0.29\n",
       "187             Palau              0.26\n",
       "188          Kiribati              0.25\n",
       "189             Nauru              0.15\n",
       "190            Tuvalu              0.06\n",
       "\n",
       "[191 rows x 2 columns]"
      ]
     },
     "execution_count": 79,
     "metadata": {},
     "output_type": "execute_result"
    }
   ],
   "source": [
    "df"
   ]
  },
  {
   "cell_type": "code",
   "execution_count": 80,
   "id": "eee226bf",
   "metadata": {},
   "outputs": [],
   "source": [
    "def load_to_csv(df, csv_path):\n",
    "    df.to_csv(csv_path)"
   ]
  },
  {
   "cell_type": "code",
   "execution_count": 81,
   "id": "d0607518",
   "metadata": {},
   "outputs": [],
   "source": [
    "load_to_csv(df, csv_path)"
   ]
  },
  {
   "cell_type": "code",
   "execution_count": 82,
   "id": "07b568df",
   "metadata": {},
   "outputs": [],
   "source": [
    "def load_to_db(df, sql_connection, table_name):\n",
    "    df.to_sql(table_name, sql_connection, if_exists='replace', index=False)"
   ]
  },
  {
   "cell_type": "code",
   "execution_count": 48,
   "id": "1ee93a5d",
   "metadata": {},
   "outputs": [],
   "source": [
    "sql_connection = sqlite3.connect('World_Economies.db')\n",
    "load_to_db(df, sql_connection, table_name)"
   ]
  },
  {
   "cell_type": "code",
   "execution_count": 49,
   "id": "48e19550",
   "metadata": {},
   "outputs": [],
   "source": [
    "def run_query(query_statement, sql_connection):\n",
    "    print(query_statement)\n",
    "    query_output = pd.read_sql(query_statement, sql_connection)\n",
    "    print(query_output)"
   ]
  },
  {
   "cell_type": "code",
   "execution_count": 50,
   "id": "a761e535",
   "metadata": {},
   "outputs": [
    {
     "name": "stdout",
     "output_type": "stream",
     "text": [
      "SELECT * from Countries_by_GDP WHERE GDP_USD_billions >= 150\n",
      "                 Country  GDP_USD_billions\n",
      "0          United States          26854.60\n",
      "1                  China          19373.59\n",
      "2                  Japan           4409.74\n",
      "3                Germany           4308.85\n",
      "4                  India           3736.88\n",
      "5         United Kingdom           3158.94\n",
      "6                 France           2923.49\n",
      "7                  Italy           2169.74\n",
      "8                 Canada           2089.67\n",
      "9                 Brazil           2081.24\n",
      "10                Russia           2062.65\n",
      "11           South Korea           1721.91\n",
      "12             Australia           1707.55\n",
      "13                Mexico           1663.16\n",
      "14                 Spain           1492.43\n",
      "15             Indonesia           1391.78\n",
      "16           Netherlands           1080.88\n",
      "17          Saudi Arabia           1061.90\n",
      "18                Turkey           1029.30\n",
      "19           Switzerland            869.60\n",
      "20                Taiwan            790.73\n",
      "21                Poland            748.89\n",
      "22             Argentina            641.10\n",
      "23               Belgium            624.25\n",
      "24                Sweden            599.05\n",
      "25               Ireland            594.10\n",
      "26              Thailand            574.23\n",
      "27                Norway            554.10\n",
      "28                Israel            539.22\n",
      "29             Singapore            515.55\n",
      "30               Austria            515.20\n",
      "31               Nigeria            506.60\n",
      "32  United Arab Emirates            498.98\n",
      "33               Vietnam            449.09\n",
      "34              Malaysia            447.03\n",
      "35           Philippines            440.90\n",
      "36            Bangladesh            420.52\n",
      "37               Denmark            405.63\n",
      "38          South Africa            399.02\n",
      "39             Hong Kong            382.85\n",
      "40                 Egypt            378.11\n",
      "41                  Iran            367.97\n",
      "42                 Chile            358.56\n",
      "43               Romania            348.90\n",
      "44              Colombia            334.69\n",
      "45        Czech Republic            330.48\n",
      "46               Finland            301.67\n",
      "47                  Peru            268.24\n",
      "48                  Iraq            267.89\n",
      "49              Portugal            267.72\n",
      "50           New Zealand            251.97\n",
      "51            Kazakhstan            245.70\n",
      "52                Greece            239.30\n",
      "53                 Qatar            219.57\n",
      "54               Algeria            206.01\n",
      "55               Hungary            188.50\n",
      "56                Kuwait            164.71\n",
      "57              Ethiopia            156.08\n"
     ]
    }
   ],
   "source": [
    "query_statement = f\"SELECT * from {table_name} WHERE GDP_USD_billions >= 150\"\n",
    "run_query(query_statement, sql_connection)\n",
    "sql_connection.close()"
   ]
  },
  {
   "cell_type": "code",
   "execution_count": null,
   "id": "f84b4137",
   "metadata": {},
   "outputs": [],
   "source": []
  },
  {
   "cell_type": "code",
   "execution_count": null,
   "id": "1d89c1ca",
   "metadata": {},
   "outputs": [],
   "source": []
  },
  {
   "cell_type": "code",
   "execution_count": null,
   "id": "d90acab1",
   "metadata": {},
   "outputs": [],
   "source": []
  },
  {
   "cell_type": "code",
   "execution_count": null,
   "id": "50a62870",
   "metadata": {},
   "outputs": [],
   "source": []
  },
  {
   "cell_type": "code",
   "execution_count": null,
   "id": "1deea56c",
   "metadata": {},
   "outputs": [],
   "source": []
  },
  {
   "cell_type": "code",
   "execution_count": null,
   "id": "fc42c19d",
   "metadata": {},
   "outputs": [],
   "source": []
  },
  {
   "cell_type": "code",
   "execution_count": null,
   "id": "90cd81e8",
   "metadata": {},
   "outputs": [],
   "source": []
  },
  {
   "cell_type": "code",
   "execution_count": null,
   "id": "d1515d08",
   "metadata": {},
   "outputs": [],
   "source": []
  },
  {
   "cell_type": "code",
   "execution_count": 183,
   "id": "7c1d6c13",
   "metadata": {},
   "outputs": [],
   "source": [
    "url = 'https://web.archive.org/web/20230902185655/https://en.everybodywiki.com/100_Most_Highly-Ranked_Films'\n",
    "db_name = 'Movies.db'\n",
    "table_name = 'Top_50'\n",
    "csv_path = '/home/project/top_50_films.csv'\n",
    "df = pd.DataFrame(columns=[\"Average Rank\",\"Film\",\"Year\"])\n",
    "count = 0"
   ]
  },
  {
   "cell_type": "code",
   "execution_count": 184,
   "id": "1d6332d3",
   "metadata": {},
   "outputs": [],
   "source": [
    "html_page = requests.get(url).text\n",
    "data = BeautifulSoup(html_page, 'html.parser')"
   ]
  },
  {
   "cell_type": "code",
   "execution_count": null,
   "id": "37626828",
   "metadata": {
    "scrolled": false
   },
   "outputs": [],
   "source": []
  },
  {
   "cell_type": "code",
   "execution_count": 185,
   "id": "83d917bc",
   "metadata": {},
   "outputs": [],
   "source": [
    "tables = data.find_all('tbody')\n",
    "rows = tables[0].find_all('tr')"
   ]
  },
  {
   "cell_type": "code",
   "execution_count": 186,
   "id": "e1bc0824",
   "metadata": {},
   "outputs": [],
   "source": [
    "for row in rows:\n",
    "    if count<50:\n",
    "        col = row.find_all('td')\n",
    "        if len(col)!=0:\n",
    "            data_dict = {\"Average Rank\": col[0].contents[0],\n",
    "                         \"Film\": col[1].contents[0],\n",
    "                         \"Year\": col[2].contents[0]}\n",
    "            df1 = pd.DataFrame(data_dict, index=[0])\n",
    "            df = pd.concat([df,df1], ignore_index=True)\n",
    "            count+=1\n",
    "    else:\n",
    "        break"
   ]
  },
  {
   "cell_type": "code",
   "execution_count": 187,
   "id": "c0214ba8",
   "metadata": {},
   "outputs": [
    {
     "name": "stdout",
     "output_type": "stream",
     "text": [
      "   Average Rank                                           Film  Year\n",
      "0             1                                  The Godfather  1972\n",
      "1             2                                   Citizen Kane  1941\n",
      "2             3                                     Casablanca  1942\n",
      "3             4                         The Godfather, Part II  1974\n",
      "4             5                            Singin' in the Rain  1952\n",
      "5             6                                         Psycho  1960\n",
      "6             7                                    Rear Window  1954\n",
      "7             8                                 Apocalypse Now  1979\n",
      "8             9                          2001: A Space Odyssey  1968\n",
      "9            10                                  Seven Samurai  1954\n",
      "10           11                                        Vertigo  1958\n",
      "11           12                                    Sunset Blvd  1950\n",
      "12           13                                   Modern Times  1936\n",
      "13           14                             Lawrence of Arabia  1962\n",
      "14           15                             North by Northwest  1959\n",
      "15           16                                      Star Wars  1977\n",
      "16           17                                       Parasite  2019\n",
      "17           18                               Schindler's List  1993\n",
      "18           19  Lord of the Rings: The Fellowship of the Ring  2001\n",
      "19           20                           Shawshank Redemption  1994\n",
      "20           21                          It's a Wonderful Life  1946\n",
      "21           22                                   Pulp Fiction  1994\n",
      "22           23                              Avengers: Endgame  2019\n",
      "23           24                                    City Lights  1931\n",
      "24           25                One Flew Over the Cuckoo's Nest  1975\n",
      "25           26                                     Goodfellas  1990\n",
      "26           27                        Raiders of the Lost Ark  1981\n",
      "27           28                                   12 Angry Men  1957\n",
      "28           29                       The Silence of the Lambs  1991\n",
      "29           30                                    Taxi Driver  1976\n",
      "30           31                            Saving Private Ryan  1998\n",
      "31           32                     E.T. the Extra Terrestrial  1982\n",
      "32           33                                          Alien  1979\n",
      "33           34              Spider-Man: Into the Spider-verse  2018\n",
      "34           35                                   Blade Runner  1982\n",
      "35           36                               Double Indemnity  1944\n",
      "36           37                                The Dark Knight  2008\n",
      "37           38                               The Wizard of Oz  1939\n",
      "38           39  Star Wars: Episode V- The Empire Strikes Back  1980\n",
      "39           40                                  The Searchers  1956\n",
      "40           41                             Mad Max: Fury Road  2015\n",
      "41           42                                      Inception  2010\n",
      "42           43          Lord of the Rings: Return of the King  2003\n",
      "43           44                                     The Matrix  1999\n",
      "44           45                                     Fight Club  1999\n",
      "45           46                             Back to the Future  1985\n",
      "46           47                          It Happened One Night  1934\n",
      "47           48                The Good, the Bad, and the Ugly  1966\n",
      "48           49              Lord of the Rings: The Two Towers  2002\n",
      "49           50                                  All About Eve  1950\n"
     ]
    }
   ],
   "source": [
    "print(df)"
   ]
  },
  {
   "cell_type": "code",
   "execution_count": null,
   "id": "6ec38eb2",
   "metadata": {},
   "outputs": [],
   "source": []
  }
 ],
 "metadata": {
  "kernelspec": {
   "display_name": "Python 3 (ipykernel)",
   "language": "python",
   "name": "python3"
  },
  "language_info": {
   "codemirror_mode": {
    "name": "ipython",
    "version": 3
   },
   "file_extension": ".py",
   "mimetype": "text/x-python",
   "name": "python",
   "nbconvert_exporter": "python",
   "pygments_lexer": "ipython3",
   "version": "3.11.5"
  }
 },
 "nbformat": 4,
 "nbformat_minor": 5
}
